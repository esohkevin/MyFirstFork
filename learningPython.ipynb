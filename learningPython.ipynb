{
 "cells": [
  {
   "cell_type": "code",
   "execution_count": 2,
   "metadata": {},
   "outputs": [
    {
     "name": "stdout",
     "output_type": "stream",
     "text": [
      "Hello World!\n"
     ]
    }
   ],
   "source": [
    "import math\n",
    "print(\"Hello World!\")"
   ]
  },
  {
   "cell_type": "code",
   "execution_count": 3,
   "metadata": {},
   "outputs": [
    {
     "name": "stdout",
     "output_type": "stream",
     "text": [
      "Please provide you name: Esoh\n",
      "Please provide your email: esohkev@gmail.com\n",
      "What is the year in which you were born?: 2008\n",
      "Please pick a course: Bioinfo\n",
      "We're sorry you are not eligible for the course.\n",
      "Contact information\n",
      "Name: Esoh\n",
      "Email: esohkev@gmail.com\n",
      "Age:  10\n",
      "Please try our previous courses.\n"
     ]
    }
   ],
   "source": [
    "name = input(\"Please provide you name: \")\n",
    "email = input(\"Please provide your email: \")\n",
    "yob = int(input(\"What is the year in which you were born?: \"))\n",
    "year = int(\"2018\")\n",
    "age = 2018-yob\n",
    "course = input(\"Please pick a course: \")\n",
    "if age < 18:\n",
    "    print(\"We're sorry you are not eligible for the course.\")\n",
    "else:\n",
    "    reason = input(\"Why are you interested in this course?: \")\n",
    "\n",
    "print(\"Contact information\" + \n",
    "      \"\\nName: \" + name + \n",
    "      \"\\nEmail: \" + email + \n",
    "      \"\\nAge: \", year-yob) \n",
    "if age >= 18:\n",
    "      print(\"Course Selected: \" + course + \n",
    "           \"\\nThank you for taking our course. We look forward to having a nice time with you.\")\n",
    "else:\n",
    "    print(\"Please try our previous courses.\")"
   ]
  },
  {
   "cell_type": "code",
   "execution_count": null,
   "metadata": {},
   "outputs": [],
   "source": []
  },
  {
   "cell_type": "code",
   "execution_count": null,
   "metadata": {},
   "outputs": [],
   "source": []
  },
  {
   "cell_type": "code",
   "execution_count": null,
   "metadata": {},
   "outputs": [],
   "source": []
  }
 ],
 "metadata": {
  "kernelspec": {
   "display_name": "Python 3",
   "language": "python",
   "name": "python3"
  },
  "language_info": {
   "codemirror_mode": {
    "name": "ipython",
    "version": 3
   },
   "file_extension": ".py",
   "mimetype": "text/x-python",
   "name": "python",
   "nbconvert_exporter": "python",
   "pygments_lexer": "ipython3",
   "version": "3.6.5"
  }
 },
 "nbformat": 4,
 "nbformat_minor": 2
}
